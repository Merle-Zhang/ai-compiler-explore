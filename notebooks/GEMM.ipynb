{
  "nbformat": 4,
  "nbformat_minor": 0,
  "metadata": {
    "colab": {
      "provenance": []
    },
    "kernelspec": {
      "name": "python3",
      "display_name": "Python 3"
    },
    "accelerator": "GPU"
  },
  "cells": [
    {
      "cell_type": "code",
      "metadata": {
        "id": "hT3pxDiHsEWR"
      },
      "source": [
        "%%capture\n",
        "!nvcc --version\n",
        "!pip install git+https://github.com/andreinechaev/nvcc4jupyter.git\n",
        "%load_ext nvcc_plugin\n",
        "!git clone https://github.com/NVIDIA/cuda-samples.git\n",
        "!cd cuda-samples && make\n",
        "!git clone https://github.com/Merle-Zhang/ai-compiler-explore.git"
      ],
      "execution_count": null,
      "outputs": []
    },
    {
      "cell_type": "code",
      "source": [
        "!nvcc -o gemm.o /content/ai-compiler-explore/CUDA/gemm.cu -I/content/cuda-samples/Common -lcublas"
      ],
      "metadata": {
        "id": "kZzZt8mk4vKX"
      },
      "execution_count": null,
      "outputs": []
    },
    {
      "cell_type": "code",
      "source": [
        "!./gemm.o"
      ],
      "metadata": {
        "id": "du7pVA9s8Tj8"
      },
      "execution_count": null,
      "outputs": []
    }
  ]
}